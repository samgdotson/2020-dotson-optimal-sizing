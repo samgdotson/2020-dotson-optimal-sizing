{
 "cells": [
  {
   "cell_type": "markdown",
   "metadata": {},
   "source": [
    "# Energy in the Chilled Water System\n",
    "\n",
    "The chilled water system (CWS) at UIUC is analogous to battery storage because the grid demand on campus feels it like a decrease in load because the chilled water is discharged from the tank before the electric chillers are turned on. To calculate the stored energy value in MWh, we can use:\n",
    "\n",
    "$Q = mc_p\\Delta T$ [J]\n"
   ]
  },
  {
   "cell_type": "code",
   "execution_count": 1,
   "metadata": {},
   "outputs": [],
   "source": [
    "import matplotlib.pyplot as plt\n",
    "import numpy as np"
   ]
  },
  {
   "cell_type": "code",
   "execution_count": 2,
   "metadata": {},
   "outputs": [],
   "source": [
    "def Q (m, c, delta_T):\n",
    "    \"\"\"\n",
    "    This function calculates the energy stored in joules. \n",
    "    \n",
    "    Parameters:\n",
    "    -----------\n",
    "    m : float\n",
    "        This is the mass of the heated/cooled substance in [kg]\n",
    "    c : float\n",
    "        This is the specific heat capacity of the substance in \n",
    "        [J/kg C]\n",
    "    delta_T : float\n",
    "        This is the change in temperature of the substance. \n",
    "    \n",
    "    Returns:\n",
    "    --------\n",
    "    q : float\n",
    "        The energy stored in the substance. \n",
    "    \"\"\"\n",
    "    q = m*c*delta_T\n",
    "    return q\n"
   ]
  },
  {
   "cell_type": "code",
   "execution_count": 3,
   "metadata": {},
   "outputs": [
    {
     "name": "stdout",
     "output_type": "stream",
     "text": [
      "The energy stored in the full CWS tank is 935072326893.9393 joules\n"
     ]
    }
   ],
   "source": [
    "tank_vol = 6.5e6 # gallons\n",
    "\n",
    "# convert gallons to cubic meters\n",
    "tank_vol = tank_vol/264\n",
    "\n",
    "rho_w = 997 # kg/m^3\n",
    "cp_w = 4186 # j/kg C\n",
    "dT = 9.1 # C\n",
    "mass_w = rho_w*tank_vol # kg\n",
    "Q_cws = Q(mass_w, cp_w, dT)\n",
    "print(\"The energy stored in the full CWS tank is {} joules\".format(Q_cws))"
   ]
  },
  {
   "cell_type": "markdown",
   "metadata": {},
   "source": [
    "#### Converting Joules to MWh\n",
    "\n",
    "We can convert Joules to MWh by the following:\n",
    "\n",
    "$1 W = 1 J/s$ <br>\n",
    "$1 Wh = 1 J/s * 3600 s/hour$<br>\n",
    "$1 MWh = 1x10^6 Wh$\n",
    "\n",
    "So\n",
    "\n",
    "$ # MWh = # J / (1e6 * 3600)$"
   ]
  },
  {
   "cell_type": "code",
   "execution_count": 4,
   "metadata": {},
   "outputs": [
    {
     "name": "stdout",
     "output_type": "stream",
     "text": [
      "The MWh equivalent in energy storage is 259.7423130260943 MWh (thermal)\n"
     ]
    }
   ],
   "source": [
    "Q_MWh = Q_cws / 3.6e9\n",
    "\n",
    "print(\"The MWh equivalent in energy storage is {} MWh (thermal)\".format(Q_MWh))"
   ]
  },
  {
   "cell_type": "markdown",
   "metadata": {},
   "source": [
    "#### Conversion Efficiency\n",
    "\n",
    "Chilled water is a form of thermal energy storage. To get the equivalent energy storage in electric energy, a factor of 1/3 is multiplied as an assumption ($\\eta = 33\\%$)"
   ]
  },
  {
   "cell_type": "code",
   "execution_count": 5,
   "metadata": {},
   "outputs": [
    {
     "name": "stdout",
     "output_type": "stream",
     "text": [
      "The battery energy equivalent (BEE) is 86.5807710086981 MWh (electric)\n"
     ]
    }
   ],
   "source": [
    "print(\"The battery energy equivalent (BEE) is {} MWh (electric)\".format(Q_MWh/3))"
   ]
  },
  {
   "cell_type": "markdown",
   "metadata": {},
   "source": [
    "#### Question\n",
    "\n",
    "This battery equivalent is only true to a certain extent. I probably have to cap the outflow at a certain level, but how much is the question. \n",
    "\n",
    "This [document](https://www.districtenergy.org/HigherLogic/System/DownloadDocumentFile.ashx?DocumentFileKey=d7d7ad58-c30a-7f1d-3d74-ab02a2320e6a&forceDialog=0) give some indication of a solution but the reality is I need data from eDNA (enter Mike Marquissee) about the chilled water use on campus. \n",
    "\n",
    "I couldn't get information from Mike before the Pandemic struck. So I'm going to use information from the master plan."
   ]
  },
  {
   "cell_type": "code",
   "execution_count": 6,
   "metadata": {},
   "outputs": [
    {
     "name": "stdout",
     "output_type": "stream",
     "text": [
      "The mean CHW electric efficiency is 0.68 KW/TON the mean CHW steam efficiency is 14.5 PPH/TON\n"
     ]
    }
   ],
   "source": [
    "import numpy as np\n",
    "el_eff_ls = np.array([0.637, 0.631, 0.615, 0.580, 0.653, 0.640, 0.640, 0.645, 0.641, 0.676, 0.653, 0.595, \n",
    "          1.2, 1.2, 0.676, 0.64, 0.64, 0.64, 0.565, 0.622, 0.634, 0.565])\n",
    "st_eff_ls = np.array([18,18,11,11])\n",
    "\n",
    "mean_eleff = el_eff_ls.mean()\n",
    "mean_steff = st_eff_ls.mean()\n",
    "\n",
    "print(f\"The mean CHW electric efficiency is {round(mean_eleff,2)} KW/TON the mean CHW steam efficiency is {mean_steff} PPH/TON\")"
   ]
  },
  {
   "cell_type": "markdown",
   "metadata": {},
   "source": [
    "This means that for every chiller to be running at maximum capacity simultaneously would require CAPxEFF."
   ]
  },
  {
   "cell_type": "code",
   "execution_count": 7,
   "metadata": {},
   "outputs": [
    {
     "data": {
      "text/plain": [
       "35264.8"
      ]
     },
     "execution_count": 7,
     "metadata": {},
     "output_type": "execute_result"
    }
   ],
   "source": [
    "peak_electric = 51860*0.68\n",
    "peak_electric"
   ]
  },
  {
   "cell_type": "code",
   "execution_count": 8,
   "metadata": {},
   "outputs": [
    {
     "data": {
      "text/html": [
       "<div>\n",
       "<style scoped>\n",
       "    .dataframe tbody tr th:only-of-type {\n",
       "        vertical-align: middle;\n",
       "    }\n",
       "\n",
       "    .dataframe tbody tr th {\n",
       "        vertical-align: top;\n",
       "    }\n",
       "\n",
       "    .dataframe thead th {\n",
       "        text-align: right;\n",
       "    }\n",
       "</style>\n",
       "<table border=\"1\" class=\"dataframe\">\n",
       "  <thead>\n",
       "    <tr style=\"text-align: right;\">\n",
       "      <th></th>\n",
       "      <th>Unnamed: 0</th>\n",
       "      <th>time</th>\n",
       "      <th>kw</th>\n",
       "    </tr>\n",
       "  </thead>\n",
       "  <tbody>\n",
       "    <tr>\n",
       "      <th>0</th>\n",
       "      <td>0</td>\n",
       "      <td>0</td>\n",
       "      <td>43345.0</td>\n",
       "    </tr>\n",
       "    <tr>\n",
       "      <th>1</th>\n",
       "      <td>1</td>\n",
       "      <td>1</td>\n",
       "      <td>43064.0</td>\n",
       "    </tr>\n",
       "    <tr>\n",
       "      <th>2</th>\n",
       "      <td>2</td>\n",
       "      <td>2</td>\n",
       "      <td>43035.0</td>\n",
       "    </tr>\n",
       "    <tr>\n",
       "      <th>3</th>\n",
       "      <td>3</td>\n",
       "      <td>3</td>\n",
       "      <td>43366.0</td>\n",
       "    </tr>\n",
       "    <tr>\n",
       "      <th>4</th>\n",
       "      <td>4</td>\n",
       "      <td>4</td>\n",
       "      <td>43281.0</td>\n",
       "    </tr>\n",
       "    <tr>\n",
       "      <th>...</th>\n",
       "      <td>...</td>\n",
       "      <td>...</td>\n",
       "      <td>...</td>\n",
       "    </tr>\n",
       "    <tr>\n",
       "      <th>8755</th>\n",
       "      <td>8755</td>\n",
       "      <td>8755</td>\n",
       "      <td>41299.0</td>\n",
       "    </tr>\n",
       "    <tr>\n",
       "      <th>8756</th>\n",
       "      <td>8756</td>\n",
       "      <td>8756</td>\n",
       "      <td>41045.0</td>\n",
       "    </tr>\n",
       "    <tr>\n",
       "      <th>8757</th>\n",
       "      <td>8757</td>\n",
       "      <td>8757</td>\n",
       "      <td>39193.0</td>\n",
       "    </tr>\n",
       "    <tr>\n",
       "      <th>8758</th>\n",
       "      <td>8758</td>\n",
       "      <td>8758</td>\n",
       "      <td>40234.0</td>\n",
       "    </tr>\n",
       "    <tr>\n",
       "      <th>8759</th>\n",
       "      <td>8759</td>\n",
       "      <td>8759</td>\n",
       "      <td>39984.0</td>\n",
       "    </tr>\n",
       "  </tbody>\n",
       "</table>\n",
       "<p>8760 rows × 3 columns</p>\n",
       "</div>"
      ],
      "text/plain": [
       "      Unnamed: 0  time       kw\n",
       "0              0     0  43345.0\n",
       "1              1     1  43064.0\n",
       "2              2     2  43035.0\n",
       "3              3     3  43366.0\n",
       "4              4     4  43281.0\n",
       "...          ...   ...      ...\n",
       "8755        8755  8755  41299.0\n",
       "8756        8756  8756  41045.0\n",
       "8757        8757  8757  39193.0\n",
       "8758        8758  8758  40234.0\n",
       "8759        8759  8759  39984.0\n",
       "\n",
       "[8760 rows x 3 columns]"
      ]
     },
     "execution_count": 8,
     "metadata": {},
     "output_type": "execute_result"
    }
   ],
   "source": [
    "import pandas as pd\n",
    "demand = pd.read_csv('./../../data/annual_load2017.csv')\n",
    "demand"
   ]
  },
  {
   "cell_type": "code",
   "execution_count": 9,
   "metadata": {},
   "outputs": [
    {
     "data": {
      "text/plain": [
       "1352.542306069697"
      ]
     },
     "execution_count": 9,
     "metadata": {},
     "output_type": "execute_result"
    }
   ],
   "source": [
    "demand['kw'].sum()/0.33/1e6"
   ]
  },
  {
   "cell_type": "code",
   "execution_count": null,
   "metadata": {},
   "outputs": [],
   "source": []
  }
 ],
 "metadata": {
  "kernelspec": {
   "display_name": "Python 3",
   "language": "python",
   "name": "python3"
  },
  "language_info": {
   "codemirror_mode": {
    "name": "ipython",
    "version": 3
   },
   "file_extension": ".py",
   "mimetype": "text/x-python",
   "name": "python",
   "nbconvert_exporter": "python",
   "pygments_lexer": "ipython3",
   "version": "3.7.6"
  }
 },
 "nbformat": 4,
 "nbformat_minor": 2
}
